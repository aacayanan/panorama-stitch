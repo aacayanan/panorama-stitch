{
 "cells": [
  {
   "cell_type": "code",
   "id": "initial_id",
   "metadata": {
    "collapsed": true,
    "ExecuteTime": {
     "end_time": "2025-03-07T03:07:39.873750Z",
     "start_time": "2025-03-07T03:07:39.870736Z"
    }
   },
   "source": "import cv2 as cv",
   "outputs": [],
   "execution_count": 7
  },
  {
   "metadata": {
    "ExecuteTime": {
     "end_time": "2025-03-07T03:07:39.884118Z",
     "start_time": "2025-03-07T03:07:39.878759Z"
    }
   },
   "cell_type": "code",
   "source": [
    "# Load the image paths\n",
    "image_directory = './sample2/'\n",
    "image_paths = [image_directory+'IMG_0964.jpg', image_directory+'IMG_0965.jpg', image_directory+'IMG_0966.jpg']\n",
    "imgs = []\n",
    "print(image_paths)"
   ],
   "id": "2ed658c57f9805f7",
   "outputs": [
    {
     "name": "stdout",
     "output_type": "stream",
     "text": [
      "['./sample2/IMG_0964.jpg', './sample2/IMG_0965.jpg', './sample2/IMG_0966.jpg']\n"
     ]
    }
   ],
   "execution_count": 8
  },
  {
   "metadata": {
    "ExecuteTime": {
     "end_time": "2025-03-07T03:07:40.028310Z",
     "start_time": "2025-03-07T03:07:39.885124Z"
    }
   },
   "cell_type": "code",
   "source": [
    "# Load the images\n",
    "for i in range(len(image_paths)):\n",
    "    imgs.append(cv.imread(image_paths[i]))\n",
    "    imgs[i] = cv.resize(imgs[i], (0, 0), fx=0.1, fy=0.1)    # rescale the images"
   ],
   "id": "8e1ca61bb05313a0",
   "outputs": [],
   "execution_count": 9
  },
  {
   "metadata": {
    "ExecuteTime": {
     "end_time": "2025-03-07T03:07:40.031646Z",
     "start_time": "2025-03-07T03:07:40.028310Z"
    }
   },
   "cell_type": "code",
   "source": [
    "# Show the original images\n",
    "# cv.imshow('Image 1', imgs[0])\n",
    "# cv.imshow('Image 2', imgs[1])\n",
    "# cv.imshow('Image 3', imgs[2])\n",
    "# cv.waitKey(0)\n",
    "# cv.destroyAllWindows()"
   ],
   "id": "cc8e7c9f56b09d8e",
   "outputs": [],
   "execution_count": 10
  },
  {
   "metadata": {
    "ExecuteTime": {
     "end_time": "2025-03-07T03:07:40.770902Z",
     "start_time": "2025-03-07T03:07:40.033163Z"
    }
   },
   "cell_type": "code",
   "source": [
    "# Stitch the images\n",
    "stitchy = cv.Stitcher.create()\n",
    "(dummy, output) = stitchy.stitch(imgs)\n",
    "\n",
    "if dummy != cv.STITCHER_OK:     # check if the stitching was successful\n",
    "    print('Error during stitching')\n",
    "else:\n",
    "    print(\"Stitched image created\")"
   ],
   "id": "b04f2a3fda62ba8",
   "outputs": [
    {
     "name": "stdout",
     "output_type": "stream",
     "text": [
      "Stitched image created\n"
     ]
    }
   ],
   "execution_count": 11
  },
  {
   "metadata": {
    "ExecuteTime": {
     "end_time": "2025-03-07T03:07:54.124181Z",
     "start_time": "2025-03-07T03:07:40.771910Z"
    }
   },
   "cell_type": "code",
   "source": [
    "# Show the stitched image\n",
    "cv.imshow('Stitched Image', output)\n",
    "cv.waitKey(0)\n",
    "cv.destroyAllWindows()"
   ],
   "id": "36ec0502144cb331",
   "outputs": [],
   "execution_count": 12
  },
  {
   "metadata": {
    "ExecuteTime": {
     "end_time": "2025-03-07T03:07:54.133006Z",
     "start_time": "2025-03-07T03:07:54.125488Z"
    }
   },
   "cell_type": "code",
   "source": [
    "# Save the stitched image\n",
    "cv.imwrite('stitched.jpg', output)"
   ],
   "id": "8bd0365a7edaf31e",
   "outputs": [
    {
     "data": {
      "text/plain": [
       "True"
      ]
     },
     "execution_count": 13,
     "metadata": {},
     "output_type": "execute_result"
    }
   ],
   "execution_count": 13
  }
 ],
 "metadata": {
  "kernelspec": {
   "display_name": "Python 3",
   "language": "python",
   "name": "python3"
  },
  "language_info": {
   "codemirror_mode": {
    "name": "ipython",
    "version": 2
   },
   "file_extension": ".py",
   "mimetype": "text/x-python",
   "name": "python",
   "nbconvert_exporter": "python",
   "pygments_lexer": "ipython2",
   "version": "2.7.6"
  }
 },
 "nbformat": 4,
 "nbformat_minor": 5
}

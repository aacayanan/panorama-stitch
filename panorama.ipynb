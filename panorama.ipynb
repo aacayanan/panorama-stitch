{
 "cells": [
  {
   "cell_type": "code",
   "id": "initial_id",
   "metadata": {
    "collapsed": true,
    "ExecuteTime": {
     "end_time": "2025-03-07T03:50:24.111081Z",
     "start_time": "2025-03-07T03:50:24.108059Z"
    }
   },
   "source": [
    "import cv2 as cv\n",
    "import os"
   ],
   "outputs": [],
   "execution_count": 15
  },
  {
   "metadata": {
    "ExecuteTime": {
     "end_time": "2025-03-07T03:50:24.125670Z",
     "start_time": "2025-03-07T03:50:24.121141Z"
    }
   },
   "cell_type": "code",
   "source": [
    "def get_image_paths(directory):\n",
    "    image_list = []\n",
    "    valid_extensions = ['.jpg', '.jpeg', '.png']\n",
    "    for file in os.listdir(directory):\n",
    "        if os.path.isfile(os.path.join(directory, file)):\n",
    "            ext = os.path.splitext(file)[1].lower()\n",
    "            if ext in valid_extensions:\n",
    "                image_list.append(directory + file)\n",
    "    return image_list"
   ],
   "id": "cce78ab24242a7c3",
   "outputs": [],
   "execution_count": 16
  },
  {
   "metadata": {
    "ExecuteTime": {
     "end_time": "2025-03-07T03:50:24.134278Z",
     "start_time": "2025-03-07T03:50:24.126676Z"
    }
   },
   "cell_type": "code",
   "source": [
    "# Load the image paths\n",
    "image_directory = './sample1/'\n",
    "image_paths = get_image_paths(image_directory)\n",
    "imgs = []\n",
    "print(image_paths)"
   ],
   "id": "2ed658c57f9805f7",
   "outputs": [
    {
     "name": "stdout",
     "output_type": "stream",
     "text": [
      "['./sample1/IMG_0962.jpg', './sample1/IMG_0963.jpg']\n"
     ]
    }
   ],
   "execution_count": 17
  },
  {
   "metadata": {
    "ExecuteTime": {
     "end_time": "2025-03-07T03:50:24.231977Z",
     "start_time": "2025-03-07T03:50:24.135283Z"
    }
   },
   "cell_type": "code",
   "source": [
    "# Load the images\n",
    "for i in range(len(image_paths)):\n",
    "    imgs.append(cv.imread(image_paths[i]))\n",
    "    imgs[i] = cv.resize(imgs[i], (0, 0), fx=0.1, fy=0.1)    # rescale the images"
   ],
   "id": "227d001680108559",
   "outputs": [],
   "execution_count": 18
  },
  {
   "metadata": {
    "ExecuteTime": {
     "end_time": "2025-03-07T03:50:24.235846Z",
     "start_time": "2025-03-07T03:50:24.232998Z"
    }
   },
   "cell_type": "code",
   "source": [
    "# Show the original images\n",
    "# cv.imshow('Image 1', imgs[0])\n",
    "# cv.imshow('Image 2', imgs[1])\n",
    "# cv.imshow('Image 3', imgs[2])\n",
    "# cv.waitKey(0)\n",
    "# cv.destroyAllWindows()"
   ],
   "id": "cc8e7c9f56b09d8e",
   "outputs": [],
   "execution_count": 19
  },
  {
   "metadata": {
    "ExecuteTime": {
     "end_time": "2025-03-07T03:50:24.498112Z",
     "start_time": "2025-03-07T03:50:24.236852Z"
    }
   },
   "cell_type": "code",
   "source": [
    "# Stitch the images\n",
    "stitchy = cv.Stitcher.create()\n",
    "(dummy, output) = stitchy.stitch(imgs)\n",
    "\n",
    "if dummy != cv.STITCHER_OK:     # check if the stitching was successful\n",
    "    print('Error during stitching')\n",
    "else:\n",
    "    print(\"Stitched image created\")"
   ],
   "id": "b04f2a3fda62ba8",
   "outputs": [
    {
     "name": "stdout",
     "output_type": "stream",
     "text": [
      "Stitched image created\n"
     ]
    }
   ],
   "execution_count": 20
  },
  {
   "metadata": {
    "ExecuteTime": {
     "end_time": "2025-03-07T03:50:27.039679Z",
     "start_time": "2025-03-07T03:50:24.498616Z"
    }
   },
   "cell_type": "code",
   "source": [
    "# Show the stitched image\n",
    "cv.imshow('Stitched Image', output)\n",
    "cv.waitKey(0)\n",
    "cv.destroyAllWindows()"
   ],
   "id": "36ec0502144cb331",
   "outputs": [],
   "execution_count": 21
  },
  {
   "metadata": {
    "ExecuteTime": {
     "end_time": "2025-03-07T03:50:27.047209Z",
     "start_time": "2025-03-07T03:50:27.040687Z"
    }
   },
   "cell_type": "code",
   "source": [
    "# Save the stitched image\n",
    "cv.imwrite('stitched.jpg', output)"
   ],
   "id": "8bd0365a7edaf31e",
   "outputs": [
    {
     "data": {
      "text/plain": [
       "True"
      ]
     },
     "execution_count": 22,
     "metadata": {},
     "output_type": "execute_result"
    }
   ],
   "execution_count": 22
  }
 ],
 "metadata": {
  "kernelspec": {
   "display_name": "Python 3",
   "language": "python",
   "name": "python3"
  },
  "language_info": {
   "codemirror_mode": {
    "name": "ipython",
    "version": 2
   },
   "file_extension": ".py",
   "mimetype": "text/x-python",
   "name": "python",
   "nbconvert_exporter": "python",
   "pygments_lexer": "ipython2",
   "version": "2.7.6"
  }
 },
 "nbformat": 4,
 "nbformat_minor": 5
}
